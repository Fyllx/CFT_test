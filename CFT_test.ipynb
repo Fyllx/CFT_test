{
  "nbformat": 4,
  "nbformat_minor": 0,
  "metadata": {
    "colab": {
      "name": "CFT_test",
      "version": "0.3.2",
      "provenance": [],
      "collapsed_sections": [],
      "include_colab_link": true
    },
    "kernelspec": {
      "name": "python3",
      "display_name": "Python 3"
    }
  },
  "cells": [
    {
      "cell_type": "markdown",
      "metadata": {
        "id": "view-in-github",
        "colab_type": "text"
      },
      "source": [
        "<a href=\"https://colab.research.google.com/github/Fyllx/CFT_test/blob/master/CFT_test.ipynb\" target=\"_parent\"><img src=\"https://colab.research.google.com/assets/colab-badge.svg\" alt=\"Open In Colab\"/></a>"
      ]
    },
    {
      "cell_type": "markdown",
      "metadata": {
        "id": "UjJp9JrU8xo3",
        "colab_type": "text"
      },
      "source": [
        "# Loading the data"
      ]
    },
    {
      "cell_type": "code",
      "metadata": {
        "id": "IQrfeJTltA-v",
        "colab_type": "code",
        "colab": {
          "base_uri": "https://localhost:8080/",
          "height": 34
        },
        "outputId": "fc8d5844-90b9-4546-bf57-77e61d6cd2b8"
      },
      "source": [
        "from os.path import join\n",
        "from google.colab import drive\n",
        "VM_DRIVE_FOLDER = join('/content', 'gdrive')\n",
        "drive.mount(VM_DRIVE_FOLDER)\n",
        "MY_DRIVE = join(VM_DRIVE_FOLDER, 'My Drive')\n",
        "CFT_DATA = join(MY_DRIVE, 'DATA', 'CFT')"
      ],
      "execution_count": 1,
      "outputs": [
        {
          "output_type": "stream",
          "text": [
            "Drive already mounted at /content/gdrive; to attempt to forcibly remount, call drive.mount(\"/content/gdrive\", force_remount=True).\n"
          ],
          "name": "stdout"
        }
      ]
    },
    {
      "cell_type": "code",
      "metadata": {
        "id": "IsFIHiGEtOmF",
        "colab_type": "code",
        "outputId": "d0734248-71b1-40b8-8a90-e621866989e5",
        "colab": {
          "base_uri": "https://localhost:8080/",
          "height": 168
        }
      },
      "source": [
        "!ls -l --block-size=M '$CFT_DATA'"
      ],
      "execution_count": 119,
      "outputs": [
        {
          "output_type": "stream",
          "text": [
            "total 382M\n",
            "-rw------- 1 root root  21M Jun 22 12:31 bottom100.joblib\n",
            "-r-------- 1 root root   9M Mar 25 12:17 kinopoisk_bottom100.zip\n",
            "-r-------- 1 root root  44M Mar 25 12:17 kinopoisk_top250.zip\n",
            "-rw------- 1 root root   1M Jun 23 15:03 metrics_cossim.joblib\n",
            "-rw------- 1 root root   1M Jun 23 20:20 metrics_mlpc.joblib\n",
            "-rw------- 1 root root 154M Jun 22 15:23 new_texts.joblib\n",
            "-rw------- 1 root root 108M Jun 22 12:28 top250.joblib\n",
            "-rw------- 1 root root  49M Jun 23 16:21 X_reduced.joblib\n"
          ],
          "name": "stdout"
        }
      ]
    },
    {
      "cell_type": "code",
      "metadata": {
        "id": "uo3ssGvqzgG8",
        "colab_type": "code",
        "colab": {}
      },
      "source": [
        "from IPython.display import HTML, display\n",
        "\n",
        "def progress(value, max=100):\n",
        "    return HTML(\"\"\"\n",
        "        <progress\n",
        "            value='{value}'\n",
        "            max='{max}',\n",
        "            style='width: 100%'\n",
        "        >\n",
        "            {value}\n",
        "        </progress>\n",
        "    \"\"\".format(value=value, max=max))"
      ],
      "execution_count": 0,
      "outputs": []
    },
    {
      "cell_type": "code",
      "metadata": {
        "id": "ckG7eCT2tota",
        "colab_type": "code",
        "colab": {}
      },
      "source": [
        "import zipfile\n",
        "import chardet\n",
        "import unicodedata\n",
        "import xml.etree.ElementTree as ET\n",
        "from joblib import dump, load"
      ],
      "execution_count": 0,
      "outputs": []
    },
    {
      "cell_type": "code",
      "metadata": {
        "id": "1bVpvbO5u88g",
        "colab_type": "code",
        "colab": {}
      },
      "source": [
        "def extract_data(zfile):\n",
        "  all_texts = []\n",
        "  compatible_encodings = ['maccyrillic', 'windows-1251']\n",
        "  compatible_name_encodings = ['ascii', 'ibm866', 'windows-1253', 'windows-1252']\n",
        "\n",
        "  N = len(zfile.namelist())\n",
        "  out = display(progress(0, N), display_id=True)\n",
        "  for i, name in enumerate(zfile.namelist()):\n",
        "    out.update(progress(i, N))\n",
        "\n",
        "    if '.xml' not in name:\n",
        "      continue\n",
        "    film_name_encoded = name.split('/')[-2].encode('cp437')\n",
        "    film_name_encoding = chardet.detect(film_name_encoded)['encoding']\n",
        "    film_name = film_name_encoded.decode('IBM866')\n",
        "    try:\n",
        "      assert film_name_encoding.lower() in compatible_name_encodings, \\\n",
        "              'Invalid film name encoding: {};\\n Name: {}'.format(film_name_encoding, film_name)\n",
        "    except Exception:\n",
        "      print(name)\n",
        "      print(film_name_encoding)\n",
        "      print(film_name)\n",
        "\n",
        "    data = zfile.read(name)\n",
        "    chd = chardet.detect(data)\n",
        "    encoding = chd['encoding']\n",
        "    str_repr = unicodedata.normalize(\"NFKC\", data.decode('windows-1251'))\n",
        "    try:\n",
        "      assert encoding.lower() in compatible_encodings, \\\n",
        "              'Invalid text encoding: {};\\n Text: {}'.format(str_repr)\n",
        "    except Exception:\n",
        "      print(str_repr)\n",
        "      print(chd)\n",
        "    root = ET.fromstring(str_repr)\n",
        "    new_text = dict()\n",
        "    new_text['text'] = root.find('content').text\n",
        "    new_text['grade3'] = root.find('grade3').text\n",
        "    new_text['grade10'] = root.find('grade10').text\n",
        "    new_text['date'] = root.find('date').text\n",
        "    new_text['film_name'] = film_name\n",
        "    all_texts.append(new_text)\n",
        "  return all_texts"
      ],
      "execution_count": 0,
      "outputs": []
    },
    {
      "cell_type": "code",
      "metadata": {
        "id": "ghbnOzOrDO6A",
        "colab_type": "code",
        "colab": {}
      },
      "source": [
        "# !rm '$CFT_DATA/top250.joblib'\n",
        "# !rm '$CFT_DATA/bottom100.joblib'"
      ],
      "execution_count": 0,
      "outputs": []
    },
    {
      "cell_type": "code",
      "metadata": {
        "id": "spyMb6v34oeC",
        "colab_type": "code",
        "outputId": "62882c3c-87e7-4d04-8730-d14d3f451de1",
        "colab": {
          "base_uri": "https://localhost:8080/",
          "height": 50
        }
      },
      "source": [
        "def cached_extract(template):\n",
        "  result = []\n",
        "  try:\n",
        "    result = load(join(CFT_DATA, '{}.joblib'.format(template)))\n",
        "  except Exception:\n",
        "    file = join(CFT_DATA, 'kinopoisk_{}.zip'.format(template))\n",
        "    with zipfile.ZipFile(file, 'r') as archive:\n",
        "      result = extract_data(archive)\n",
        "    dump(result, join(CFT_DATA, '{}.joblib'.format(template)))\n",
        "  return result\n",
        "\n",
        "print('loading top250 films\\' reviews')\n",
        "all_reviews = cached_extract('top250')\n",
        "print('loading bottom100 films\\' reviews')\n",
        "all_reviews.extend(cached_extract('bottom100'))"
      ],
      "execution_count": 7,
      "outputs": [
        {
          "output_type": "stream",
          "text": [
            "loading top250 films' reviews\n",
            "loading bottom100 films' reviews\n"
          ],
          "name": "stdout"
        }
      ]
    },
    {
      "cell_type": "code",
      "metadata": {
        "id": "o8CSEVMtLh-_",
        "colab_type": "code",
        "outputId": "54dd2329-8125-4aeb-dfe1-4a54a0e0b163",
        "colab": {
          "base_uri": "https://localhost:8080/",
          "height": 34
        }
      },
      "source": [
        "print(len(all_reviews))"
      ],
      "execution_count": 8,
      "outputs": [
        {
          "output_type": "stream",
          "text": [
            "36591\n"
          ],
          "name": "stdout"
        }
      ]
    },
    {
      "cell_type": "markdown",
      "metadata": {
        "id": "RCJv7iXqJvWt",
        "colab_type": "text"
      },
      "source": [
        "## Problem description"
      ]
    },
    {
      "cell_type": "markdown",
      "metadata": {
        "id": "xsEbS0_zIwF6",
        "colab_type": "text"
      },
      "source": [
        "The dataset consist of 36591 film reviews, written in Russian for 350 different films.\n",
        "\n",
        "The task at hand is to learn to distinguish, given the pair of reviews, wether or not this pair is about the same movie.\n",
        "\n",
        "We are free to choose metrics, sampling process and any other methodological details."
      ]
    },
    {
      "cell_type": "code",
      "metadata": {
        "id": "Qmj_tJH8Ov3g",
        "colab_type": "code",
        "colab": {}
      },
      "source": [
        "import pandas as pd\n",
        "df = pd.DataFrame(all_reviews)"
      ],
      "execution_count": 0,
      "outputs": []
    },
    {
      "cell_type": "markdown",
      "metadata": {
        "id": "gpmIFRvp8s6d",
        "colab_type": "text"
      },
      "source": [
        "# Text preprocessing"
      ]
    },
    {
      "cell_type": "code",
      "metadata": {
        "id": "Cb-uoCpHWL0w",
        "colab_type": "code",
        "outputId": "cad0f3ea-c186-4e69-c358-155f871efefe",
        "colab": {
          "base_uri": "https://localhost:8080/",
          "height": 84
        }
      },
      "source": [
        "!pip install pymorphy2"
      ],
      "execution_count": 10,
      "outputs": [
        {
          "output_type": "stream",
          "text": [
            "Requirement already satisfied: pymorphy2 in /usr/local/lib/python3.6/dist-packages (0.8)\n",
            "Requirement already satisfied: docopt>=0.6 in /usr/local/lib/python3.6/dist-packages (from pymorphy2) (0.6.2)\n",
            "Requirement already satisfied: dawg-python>=0.7 in /usr/local/lib/python3.6/dist-packages (from pymorphy2) (0.7.2)\n",
            "Requirement already satisfied: pymorphy2-dicts<3.0,>=2.4 in /usr/local/lib/python3.6/dist-packages (from pymorphy2) (2.4.393442.3710985)\n"
          ],
          "name": "stdout"
        }
      ]
    },
    {
      "cell_type": "code",
      "metadata": {
        "id": "wGkHqGFnBwIz",
        "colab_type": "code",
        "outputId": "c4d37772-b43c-4ffa-b883-ff7b709d1022",
        "colab": {
          "base_uri": "https://localhost:8080/",
          "height": 50
        }
      },
      "source": [
        "import nltk\n",
        "nltk.download('stopwords')\n",
        "from nltk.corpus import stopwords\n",
        "russian_stopwords = stopwords.words(\"russian\")"
      ],
      "execution_count": 11,
      "outputs": [
        {
          "output_type": "stream",
          "text": [
            "[nltk_data] Downloading package stopwords to /root/nltk_data...\n",
            "[nltk_data]   Package stopwords is already up-to-date!\n"
          ],
          "name": "stdout"
        }
      ]
    },
    {
      "cell_type": "code",
      "metadata": {
        "id": "ec8jCtLW6-s-",
        "colab_type": "code",
        "colab": {}
      },
      "source": [
        "from nltk.tokenize import RegexpTokenizer\n",
        "tokenizer = RegexpTokenizer(r'\\w+')\n",
        "def tokenize(arg):\n",
        "  return tokenizer.tokenize(arg)"
      ],
      "execution_count": 0,
      "outputs": []
    },
    {
      "cell_type": "code",
      "metadata": {
        "id": "FXCZjB5OTi5z",
        "colab_type": "code",
        "colab": {}
      },
      "source": [
        "import pymorphy2\n",
        "morph = pymorphy2.MorphAnalyzer()\n",
        "def normal_form(word):\n",
        "  return morph.parse(word)[0].normal_form"
      ],
      "execution_count": 0,
      "outputs": []
    },
    {
      "cell_type": "code",
      "metadata": {
        "id": "zWRZjMRQT9oF",
        "colab_type": "code",
        "colab": {}
      },
      "source": [
        "def preprocess_text(text):\n",
        "  text = tokenize(text)\n",
        "  text = [normal_form(word) for word in text]\n",
        "  text = [word for word in text if word not in russian_stopwords]\n",
        "  return text"
      ],
      "execution_count": 0,
      "outputs": []
    },
    {
      "cell_type": "code",
      "metadata": {
        "id": "Z_h5T0vgWsyC",
        "colab_type": "code",
        "colab": {}
      },
      "source": [
        "new_texts_file = join(CFT_DATA, 'new_texts.joblib')\n",
        "# !rm '$new_texts_file'\n",
        "try:\n",
        "  new_texts = load(new_texts_file)\n",
        "except Exception:\n",
        "  N = df.text.shape[0]\n",
        "  out = display(progress(0, N), display_id=True)\n",
        "  new_texts = []\n",
        "  for i in range(N):\n",
        "    out.update(progress(i, N))\n",
        "    txt = df.text.iloc[i]\n",
        "    new_texts.append(preprocess_text(txt))\n",
        "  dump(new_texts, new_texts_file)\n",
        "new_texts = pd.Series(new_texts)"
      ],
      "execution_count": 0,
      "outputs": []
    },
    {
      "cell_type": "markdown",
      "metadata": {
        "id": "aeHvFo0Ah05a",
        "colab_type": "text"
      },
      "source": [
        "# TF-IDF features and baseline algorithms"
      ]
    },
    {
      "cell_type": "code",
      "metadata": {
        "id": "ufvwdveMh6tE",
        "colab_type": "code",
        "colab": {}
      },
      "source": [
        "#TODO: feature idea: number of words in text that match words in names"
      ],
      "execution_count": 0,
      "outputs": []
    },
    {
      "cell_type": "code",
      "metadata": {
        "id": "z1bfTWzNanzJ",
        "colab_type": "code",
        "colab": {}
      },
      "source": [
        "names_to_labels = {'UNKNOWN':0}\n",
        "labels_to_names = {0:'UNKNOWN'}\n",
        "for i, name in enumerate(df.film_name.unique()):\n",
        "  names_to_labels[name] = i+1\n",
        "  labels_to_names[i+1] = name\n",
        "labels = df.film_name.transform(lambda name: names_to_labels.get(name, 0))"
      ],
      "execution_count": 0,
      "outputs": []
    },
    {
      "cell_type": "code",
      "metadata": {
        "id": "W9DbLcREiI--",
        "colab_type": "code",
        "colab": {}
      },
      "source": [
        "from sklearn.feature_extraction.text import TfidfVectorizer\n",
        "\n",
        "vectorizer = TfidfVectorizer()\n",
        "#could be more fair to fit only on X_train\n",
        "X = vectorizer.fit_transform(new_texts.transform(lambda arr: \" \".join(arr)))\n",
        "Y = labels"
      ],
      "execution_count": 0,
      "outputs": []
    },
    {
      "cell_type": "markdown",
      "metadata": {
        "id": "yii04kR3zgJg",
        "colab_type": "text"
      },
      "source": [
        "## Films separability"
      ]
    },
    {
      "cell_type": "code",
      "metadata": {
        "id": "xyNKBnLGlE4Q",
        "colab_type": "code",
        "colab": {}
      },
      "source": [
        "from sklearn.model_selection import train_test_split\n",
        "\n",
        "X_train, X_test, Y_train, Y_test = train_test_split(X, Y, test_size=0.3)\n",
        "#TODO: try other models for this section"
      ],
      "execution_count": 0,
      "outputs": []
    },
    {
      "cell_type": "code",
      "metadata": {
        "id": "SUYJhWzXi4X2",
        "colab_type": "code",
        "colab": {
          "base_uri": "https://localhost:8080/",
          "height": 67
        },
        "outputId": "6e0cb1ef-41d9-48ae-ad8a-6f0011b949af"
      },
      "source": [
        "from sklearn.ensemble import RandomForestClassifier\n",
        "\n",
        "#Warning! Heavy on memory and calculations\n",
        "rf = RandomForestClassifier(n_estimators=300, max_depth=110, oob_score=True)\n",
        "rf.fit(X_train, Y_train)\n",
        "#Trained model weights around 6Gb, so there's no use dump/load'ing it\n",
        "print(\"Number of classes: {}\".format(labels.max()))\n",
        "print(\"Accuracy (oob_score):\", rf.oob_score_)\n",
        "print(\"Accuracy (test): \", rf.score(X_test, Y_test))"
      ],
      "execution_count": 20,
      "outputs": [
        {
          "output_type": "stream",
          "text": [
            "Number of classes: 350\n",
            "Accuracy (oob_score): 0.7726935540545816\n",
            "Accuracy (train/test):  0.781198761158681\n"
          ],
          "name": "stdout"
        }
      ]
    },
    {
      "cell_type": "markdown",
      "metadata": {
        "id": "JGLvLGGA20Vk",
        "colab_type": "text"
      },
      "source": [
        "Accuracy of 77-79% for 350 classes is very good! We can work with these features.\n",
        "\n",
        "If we were to use these predictions for our final task - classifying pairs of reviews, we would get 0.78^2 **~ 0.6 recall** on binary classification with around 350*(1/350)^2 ~ 0,008 class disbalance, which is not bad at all. But that's theoretical figures, let's verify this."
      ]
    },
    {
      "cell_type": "code",
      "metadata": {
        "id": "TDwrsk4jEq0W",
        "colab_type": "code",
        "colab": {
          "base_uri": "https://localhost:8080/",
          "height": 67
        },
        "outputId": "4d1e6587-6925-46d1-9a8f-3b6de2135140"
      },
      "source": [
        "total_films = Y.shape[0]\n",
        "true_count = 0\n",
        "false_count = 0\n",
        "for n in Y.value_counts():\n",
        "  true_count += (-n + n*n)\n",
        "  false_count += n * (total_films - n)\n",
        "true_count /= 2\n",
        "false_count /= 2\n",
        "print('True count:', int(true_count))\n",
        "print('False count:', int(false_count))\n",
        "print('Class disbalance in all data:', 2*true_count/(-total_films + total_films*total_films) )"
      ],
      "execution_count": 21,
      "outputs": [
        {
          "output_type": "stream",
          "text": [
            "True count: 5392026.0\n",
            "False count: 664040319.0\n",
            "Class disbalance in all data: 0.008054624250341534\n"
          ],
          "name": "stdout"
        }
      ]
    },
    {
      "cell_type": "code",
      "metadata": {
        "id": "f4ru4cVSJhEz",
        "colab_type": "code",
        "colab": {}
      },
      "source": [
        "import numpy as np\n",
        "\n",
        "preds = rf.predict(X_test)"
      ],
      "execution_count": 0,
      "outputs": []
    },
    {
      "cell_type": "code",
      "metadata": {
        "id": "pCbVCsHmNPVr",
        "colab_type": "code",
        "colab": {
          "base_uri": "https://localhost:8080/",
          "height": 168
        },
        "outputId": "5059c0d6-e64b-4273-ab09-fe6881425c52"
      },
      "source": [
        "print('Total data points:', preds.shape[0]**2)\n",
        "N = int(1e7)\n",
        "print('Conducting an experiment on a {} randomly sampled points ({:.4}%)'.format(N, 100*N / preds.shape[0]**2))\n",
        "ind1 = np.random.uniform(0, Y_test.shape[0], N).astype('int64')\n",
        "ind2 = np.random.uniform(0, Y_test.shape[0], N).astype('int64')\n",
        "\n",
        "binary_Y = Y_test.values[ind1] == Y_test.values[ind2]\n",
        "print('Class balance in test:', binary_Y.sum() / N)\n",
        "binary_pred = preds[ind1] == preds[ind2]\n",
        "print('Balance of predictions:', binary_pred.sum() / N)\n",
        "print('Accuracy:', (binary_pred == binary_Y).sum() / N)\n",
        "TPR = (binary_Y * binary_pred).sum() / binary_Y.sum()\n",
        "print('Recall (TPR):', TPR)\n",
        "PPV = (binary_Y * binary_pred).sum() / binary_pred.sum()\n",
        "print('Precision:', PPV)\n",
        "F1 = 2 * PPV*TPR / (PPV+TPR)\n",
        "print('F1 score:', F1)\n",
        "FPR = (binary_pred * (~binary_Y)).sum() / (~binary_Y).sum()\n",
        "print('FPR:', FPR)"
      ],
      "execution_count": 23,
      "outputs": [
        {
          "output_type": "stream",
          "text": [
            "Total data points: 120516484\n",
            "Conducting an experiment on a 10000000 randomly sampled points (8.298%)\n",
            "Class balance in test: 0.0082168\n",
            "Balance of predictions: 0.0138629\n",
            "Accuracy: 0.9921347\n",
            "Recall (TPR): 0.8649595949761464\n",
            "Precision: 0.5126777225544439\n",
            "F1 score: 0.643776862910275\n",
            "FPR: 0.006811670131133498\n"
          ],
          "name": "stdout"
        }
      ]
    },
    {
      "cell_type": "markdown",
      "metadata": {
        "id": "LzH4UIR9VeLb",
        "colab_type": "text"
      },
      "source": [
        "Recall in experiments is even higher than theoretically predicted.\n",
        "\n",
        "In general, that's a decent baseline method, but it has a lot of drawbacks:\n",
        "\n",
        "\n",
        "1.   There's not much we can do to fine-tune TPR/FPR\n",
        "2.   A lot of information is being lost when we make a strict prediction on each individual review - working with probability distributions and evaluating P(f1==f2|distr1,distr2) may yield much better results\n",
        "3.  With such an approach we can't work with unknown films.\n",
        "\n"
      ]
    },
    {
      "cell_type": "markdown",
      "metadata": {
        "id": "4lQ_ThtuzqUV",
        "colab_type": "text"
      },
      "source": [
        "## Words importance"
      ]
    },
    {
      "cell_type": "code",
      "metadata": {
        "id": "-QwzpoziyCkd",
        "colab_type": "code",
        "colab": {
          "base_uri": "https://localhost:8080/",
          "height": 935
        },
        "outputId": "4c864997-87e3-4416-902b-94252a959117"
      },
      "source": [
        "import matplotlib.pyplot as plt\n",
        "\n",
        "feature_importances = rf.feature_importances_\n",
        "imp = zip(vectorizer.get_feature_names(), feature_importances)\n",
        "imp = sorted(imp, key=lambda x: -x[1])\n",
        "imp = pd.DataFrame(imp)\n",
        "imp.head(30)"
      ],
      "execution_count": 31,
      "outputs": [
        {
          "output_type": "execute_result",
          "data": {
            "text/html": [
              "<div>\n",
              "<style scoped>\n",
              "    .dataframe tbody tr th:only-of-type {\n",
              "        vertical-align: middle;\n",
              "    }\n",
              "\n",
              "    .dataframe tbody tr th {\n",
              "        vertical-align: top;\n",
              "    }\n",
              "\n",
              "    .dataframe thead th {\n",
              "        text-align: right;\n",
              "    }\n",
              "</style>\n",
              "<table border=\"1\" class=\"dataframe\">\n",
              "  <thead>\n",
              "    <tr style=\"text-align: right;\">\n",
              "      <th></th>\n",
              "      <th>0</th>\n",
              "      <th>1</th>\n",
              "    </tr>\n",
              "  </thead>\n",
              "  <tbody>\n",
              "    <tr>\n",
              "      <th>0</th>\n",
              "      <td>сон</td>\n",
              "      <td>0.005431</td>\n",
              "    </tr>\n",
              "    <tr>\n",
              "      <th>1</th>\n",
              "      <td>нолана</td>\n",
              "      <td>0.005050</td>\n",
              "    </tr>\n",
              "    <tr>\n",
              "      <th>2</th>\n",
              "      <td>амели</td>\n",
              "      <td>0.004422</td>\n",
              "    </tr>\n",
              "    <tr>\n",
              "      <th>3</th>\n",
              "      <td>хатико</td>\n",
              "      <td>0.004052</td>\n",
              "    </tr>\n",
              "    <tr>\n",
              "      <th>4</th>\n",
              "      <td>джокер</td>\n",
              "      <td>0.003712</td>\n",
              "    </tr>\n",
              "    <tr>\n",
              "      <th>5</th>\n",
              "      <td>шерлок</td>\n",
              "      <td>0.003702</td>\n",
              "    </tr>\n",
              "    <tr>\n",
              "      <th>6</th>\n",
              "      <td>холмс</td>\n",
              "      <td>0.003385</td>\n",
              "    </tr>\n",
              "    <tr>\n",
              "      <th>7</th>\n",
              "      <td>леджер</td>\n",
              "      <td>0.003366</td>\n",
              "    </tr>\n",
              "    <tr>\n",
              "      <th>8</th>\n",
              "      <td>собака</td>\n",
              "      <td>0.003196</td>\n",
              "    </tr>\n",
              "    <tr>\n",
              "      <th>9</th>\n",
              "      <td>дикаприо</td>\n",
              "      <td>0.003129</td>\n",
              "    </tr>\n",
              "    <tr>\n",
              "      <th>10</th>\n",
              "      <td>дауни</td>\n",
              "      <td>0.002994</td>\n",
              "    </tr>\n",
              "    <tr>\n",
              "      <th>11</th>\n",
              "      <td>ватсон</td>\n",
              "      <td>0.002991</td>\n",
              "    </tr>\n",
              "    <tr>\n",
              "      <th>12</th>\n",
              "      <td>смит</td>\n",
              "      <td>0.002885</td>\n",
              "    </tr>\n",
              "    <tr>\n",
              "      <th>13</th>\n",
              "      <td>гир</td>\n",
              "      <td>0.002812</td>\n",
              "    </tr>\n",
              "    <tr>\n",
              "      <th>14</th>\n",
              "      <td>скорсез</td>\n",
              "      <td>0.002789</td>\n",
              "    </tr>\n",
              "    <tr>\n",
              "      <th>15</th>\n",
              "      <td>дракон</td>\n",
              "      <td>0.002723</td>\n",
              "    </tr>\n",
              "    <tr>\n",
              "      <th>16</th>\n",
              "      <td>остров</td>\n",
              "      <td>0.002651</td>\n",
              "    </tr>\n",
              "    <tr>\n",
              "      <th>17</th>\n",
              "      <td>бэтмена</td>\n",
              "      <td>0.002639</td>\n",
              "    </tr>\n",
              "    <tr>\n",
              "      <th>18</th>\n",
              "      <td>лоу</td>\n",
              "      <td>0.002598</td>\n",
              "    </tr>\n",
              "    <tr>\n",
              "      <th>19</th>\n",
              "      <td>форресть</td>\n",
              "      <td>0.002583</td>\n",
              "    </tr>\n",
              "    <tr>\n",
              "      <th>20</th>\n",
              "      <td>гампа</td>\n",
              "      <td>0.002476</td>\n",
              "    </tr>\n",
              "    <tr>\n",
              "      <th>21</th>\n",
              "      <td>робот</td>\n",
              "      <td>0.002405</td>\n",
              "    </tr>\n",
              "    <tr>\n",
              "      <th>22</th>\n",
              "      <td>ричать</td>\n",
              "      <td>0.002350</td>\n",
              "    </tr>\n",
              "    <tr>\n",
              "      <th>23</th>\n",
              "      <td>кобба</td>\n",
              "      <td>0.002346</td>\n",
              "    </tr>\n",
              "    <tr>\n",
              "      <th>24</th>\n",
              "      <td>рапунцель</td>\n",
              "      <td>0.002303</td>\n",
              "    </tr>\n",
              "    <tr>\n",
              "      <th>25</th>\n",
              "      <td>хозяин</td>\n",
              "      <td>0.002299</td>\n",
              "    </tr>\n",
              "    <tr>\n",
              "      <th>26</th>\n",
              "      <td>хатить</td>\n",
              "      <td>0.002230</td>\n",
              "    </tr>\n",
              "    <tr>\n",
              "      <th>27</th>\n",
              "      <td>стругацкий</td>\n",
              "      <td>0.002214</td>\n",
              "    </tr>\n",
              "    <tr>\n",
              "      <th>28</th>\n",
              "      <td>хит</td>\n",
              "      <td>0.002192</td>\n",
              "    </tr>\n",
              "    <tr>\n",
              "      <th>29</th>\n",
              "      <td>гай</td>\n",
              "      <td>0.002177</td>\n",
              "    </tr>\n",
              "  </tbody>\n",
              "</table>\n",
              "</div>"
            ],
            "text/plain": [
              "             0         1\n",
              "0          сон  0.005431\n",
              "1       нолана  0.005050\n",
              "2        амели  0.004422\n",
              "3       хатико  0.004052\n",
              "4       джокер  0.003712\n",
              "5       шерлок  0.003702\n",
              "6        холмс  0.003385\n",
              "7       леджер  0.003366\n",
              "8       собака  0.003196\n",
              "9     дикаприо  0.003129\n",
              "10       дауни  0.002994\n",
              "11      ватсон  0.002991\n",
              "12        смит  0.002885\n",
              "13         гир  0.002812\n",
              "14     скорсез  0.002789\n",
              "15      дракон  0.002723\n",
              "16      остров  0.002651\n",
              "17     бэтмена  0.002639\n",
              "18         лоу  0.002598\n",
              "19    форресть  0.002583\n",
              "20       гампа  0.002476\n",
              "21       робот  0.002405\n",
              "22      ричать  0.002350\n",
              "23       кобба  0.002346\n",
              "24   рапунцель  0.002303\n",
              "25      хозяин  0.002299\n",
              "26      хатить  0.002230\n",
              "27  стругацкий  0.002214\n",
              "28         хит  0.002192\n",
              "29         гай  0.002177"
            ]
          },
          "metadata": {
            "tags": []
          },
          "execution_count": 31
        }
      ]
    },
    {
      "cell_type": "code",
      "metadata": {
        "id": "0ZriKduyuQ7f",
        "colab_type": "code",
        "colab": {
          "base_uri": "https://localhost:8080/",
          "height": 286
        },
        "outputId": "30e5810c-c940-47e1-df4a-d47003bc8747"
      },
      "source": [
        "plt.plot(imp[1][:5000])"
      ],
      "execution_count": 30,
      "outputs": [
        {
          "output_type": "execute_result",
          "data": {
            "text/plain": [
              "[<matplotlib.lines.Line2D at 0x7f4f7a5b3f98>]"
            ]
          },
          "metadata": {
            "tags": []
          },
          "execution_count": 30
        },
        {
          "output_type": "display_data",
          "data": {
            "image/png": "[encoded data removed]",
            "text/plain": [
              "<Figure size 432x288 with 1 Axes>"
            ]
          },
          "metadata": {
            "tags": []
          }
        }
      ]
    },
    {
      "cell_type": "code",
      "metadata": {
        "id": "_olPDUQopqDR",
        "colab_type": "code",
        "colab": {}
      },
      "source": [
        "#TODO: collapse forms of important words that were not recognized by pymorph2\n",
        "for i, txt in enumerate(new_texts):\n",
        "  #'форрест'\n",
        "  #'форресть'\n",
        "  if 'форест' in txt:\n",
        "    print(\"{}: {}\".format(df.film_name.iloc[i], txt))"
      ],
      "execution_count": 0,
      "outputs": []
    },
    {
      "cell_type": "code",
      "metadata": {
        "id": "yWHIv67tzQa4",
        "colab_type": "code",
        "colab": {
          "base_uri": "https://localhost:8080/",
          "height": 34
        },
        "outputId": "b11721d9-555c-45a0-be5f-228f5451b727"
      },
      "source": [
        "ind_imps = sorted([(i, imp) for i, imp in enumerate(feature_importances)], key=lambda x:-x[1])\n",
        "reduced_indexes = [el[0] for el in ind_imps[:5000]]\n",
        "#dimension reduction to try other methods\n",
        "\n",
        "XR_file = join(CFT_DATA, 'X_reduced.joblib')\n",
        "#!rm '$XR_file'\n",
        "try:\n",
        "  X_reduced = load(XR_file)\n",
        "except Exception:\n",
        "  X_reduced = X[:, reduced_indexes]\n",
        "  dump(X_reduced, XR_file)"
      ],
      "execution_count": 61,
      "outputs": [
        {
          "output_type": "execute_result",
          "data": {
            "text/plain": [
              "['/content/gdrive/My Drive/DATA/CFT/X_reduced.joblib']"
            ]
          },
          "metadata": {
            "tags": []
          },
          "execution_count": 61
        }
      ]
    },
    {
      "cell_type": "code",
      "metadata": {
        "id": "o4UqLrwW1Sge",
        "colab_type": "code",
        "colab": {}
      },
      "source": [
        "del rf"
      ],
      "execution_count": 0,
      "outputs": []
    },
    {
      "cell_type": "markdown",
      "metadata": {
        "id": "VD7aXI3s4FfQ",
        "colab_type": "text"
      },
      "source": [
        "## Cosine similarity"
      ]
    },
    {
      "cell_type": "code",
      "metadata": {
        "id": "UvTqEyG4YNZl",
        "colab_type": "code",
        "colab": {}
      },
      "source": [
        "def predict_similarity(v1, v2, threshold=0.05):\n",
        "  numer = (v1*v2.T).toarray()[0][0]\n",
        "  denom = ( (v1*v1.T)*(v2*v2.T) ).toarray()[0][0]\n",
        "  cossim = numer / denom\n",
        "  return cossim > threshold"
      ],
      "execution_count": 0,
      "outputs": []
    },
    {
      "cell_type": "code",
      "metadata": {
        "id": "n3reQ_c2XrWQ",
        "colab_type": "code",
        "colab": {
          "base_uri": "https://localhost:8080/",
          "height": 1025
        },
        "outputId": "645a42b8-bf0b-4ea7-8eee-39f663fc09cd"
      },
      "source": [
        "metrics_file = join(CFT_DATA, 'metrics_cossim.joblib')\n",
        "# !rm '$metrics_file'\n",
        "try:\n",
        "  TPR, FPR, F1, thr = load(metrics_file)\n",
        "except Exception:\n",
        "  TPR = []\n",
        "  FPR = []\n",
        "  F1 = []\n",
        "  thr = [0.01, 0.02, 0.03, 0.04, 0.05, 0.06, 0.07, 0.08, 0.1, 0.13, 0.16, 0.2]\n",
        "  for threshold in thr:\n",
        "    N = int(6000)\n",
        "    ind1 = np.random.uniform(0, Y.shape[0], N).astype('int64')\n",
        "    ind2 = np.random.uniform(0, Y.shape[0], N).astype('int64')\n",
        "    binary_Y = Y.values[ind1] == Y.values[ind2]\n",
        "\n",
        "    binary_pred = []\n",
        "    out = display(progress(0, ind1.shape[0]), display_id=True)\n",
        "    count=0\n",
        "    #TODO: vectorize the computation, it's SO slow right now\n",
        "    for i1, i2 in zip(ind1, ind2):\n",
        "      count+=1\n",
        "      out.update(progress(count, ind1.shape[0]))\n",
        "      binary_pred.append(predict_similarity(X[i1], X[i2], threshold))\n",
        "    binary_pred = np.asarray(binary_pred)\n",
        "\n",
        "    TPR.append( (binary_Y * binary_pred).sum() / binary_Y.sum() )\n",
        "    print('Recall:', TPR[-1])\n",
        "    PPV = (binary_Y * binary_pred).sum() / binary_pred.sum()\n",
        "    print('Precision:', PPV)\n",
        "    F1.append( 2 * PPV*TPR[-1] / (PPV+TPR[-1]) )\n",
        "    print('F1:', F1[-1])\n",
        "    FPR.append( (binary_pred * (~binary_Y)).sum() / (~binary_Y).sum())\n",
        "    print('FPR:', FPR[-1])\n",
        "  dump((TPR, FPR, F1, thr), metrics_file)"
      ],
      "execution_count": 50,
      "outputs": [
        {
          "output_type": "display_data",
          "data": {
            "text/html": [
              "\n",
              "        <progress\n",
              "            value='6000'\n",
              "            max='6000',\n",
              "            style='width: 100%'\n",
              "        >\n",
              "            6000\n",
              "        </progress>\n",
              "    "
            ],
            "text/plain": [
              "<IPython.core.display.HTML object>"
            ]
          },
          "metadata": {
            "tags": []
          }
        },
        {
          "output_type": "stream",
          "text": [
            "Recall: 1.0\n",
            "Precision: 0.008529512111907198\n",
            "F1: 0.016914749661705007\n",
            "FPR: 0.9768067226890756\n"
          ],
          "name": "stdout"
        },
        {
          "output_type": "display_data",
          "data": {
            "text/html": [
              "\n",
              "        <progress\n",
              "            value='6000'\n",
              "            max='6000',\n",
              "            style='width: 100%'\n",
              "        >\n",
              "            6000\n",
              "        </progress>\n",
              "    "
            ],
            "text/plain": [
              "<IPython.core.display.HTML object>"
            ]
          },
          "metadata": {
            "tags": []
          }
        },
        {
          "output_type": "stream",
          "text": [
            "Recall: 0.9830508474576272\n",
            "Precision: 0.010885885885885885\n",
            "F1: 0.021533320957861517\n",
            "FPR: 0.8870560511698368\n"
          ],
          "name": "stdout"
        },
        {
          "output_type": "display_data",
          "data": {
            "text/html": [
              "\n",
              "        <progress\n",
              "            value='6000'\n",
              "            max='6000',\n",
              "            style='width: 100%'\n",
              "        >\n",
              "            6000\n",
              "        </progress>\n",
              "    "
            ],
            "text/plain": [
              "<IPython.core.display.HTML object>"
            ]
          },
          "metadata": {
            "tags": []
          }
        },
        {
          "output_type": "stream",
          "text": [
            "Recall: 0.9636363636363636\n",
            "Precision: 0.011988237955213752\n",
            "F1: 0.023681858802502235\n",
            "FPR: 0.7347350714886459\n"
          ],
          "name": "stdout"
        },
        {
          "output_type": "display_data",
          "data": {
            "text/html": [
              "\n",
              "        <progress\n",
              "            value='6000'\n",
              "            max='6000',\n",
              "            style='width: 100%'\n",
              "        >\n",
              "            6000\n",
              "        </progress>\n",
              "    "
            ],
            "text/plain": [
              "<IPython.core.display.HTML object>"
            ]
          },
          "metadata": {
            "tags": []
          }
        },
        {
          "output_type": "stream",
          "text": [
            "Recall: 0.9183673469387755\n",
            "Precision: 0.013765677577240747\n",
            "F1: 0.027124773960216998\n",
            "FPR: 0.5417576877835658\n"
          ],
          "name": "stdout"
        },
        {
          "output_type": "display_data",
          "data": {
            "text/html": [
              "\n",
              "        <progress\n",
              "            value='6000'\n",
              "            max='6000',\n",
              "            style='width: 100%'\n",
              "        >\n",
              "            6000\n",
              "        </progress>\n",
              "    "
            ],
            "text/plain": [
              "<IPython.core.display.HTML object>"
            ]
          },
          "metadata": {
            "tags": []
          }
        },
        {
          "output_type": "stream",
          "text": [
            "Recall: 0.8909090909090909\n",
            "Precision: 0.02106620808254514\n",
            "F1: 0.041159176816463666\n",
            "FPR: 0.38301093355761145\n"
          ],
          "name": "stdout"
        },
        {
          "output_type": "display_data",
          "data": {
            "text/html": [
              "\n",
              "        <progress\n",
              "            value='6000'\n",
              "            max='6000',\n",
              "            style='width: 100%'\n",
              "        >\n",
              "            6000\n",
              "        </progress>\n",
              "    "
            ],
            "text/plain": [
              "<IPython.core.display.HTML object>"
            ]
          },
          "metadata": {
            "tags": []
          }
        },
        {
          "output_type": "stream",
          "text": [
            "Recall: 0.8909090909090909\n",
            "Precision: 0.032579787234042555\n",
            "F1: 0.06286080821039128\n",
            "FPR: 0.2447434819175778\n"
          ],
          "name": "stdout"
        },
        {
          "output_type": "display_data",
          "data": {
            "text/html": [
              "\n",
              "        <progress\n",
              "            value='6000'\n",
              "            max='6000',\n",
              "            style='width: 100%'\n",
              "        >\n",
              "            6000\n",
              "        </progress>\n",
              "    "
            ],
            "text/plain": [
              "<IPython.core.display.HTML object>"
            ]
          },
          "metadata": {
            "tags": []
          }
        },
        {
          "output_type": "stream",
          "text": [
            "Recall: 0.8837209302325582\n",
            "Precision: 0.04357798165137615\n",
            "F1: 0.08306010928961749\n",
            "FPR: 0.14000335739466174\n"
          ],
          "name": "stdout"
        },
        {
          "output_type": "display_data",
          "data": {
            "text/html": [
              "\n",
              "        <progress\n",
              "            value='6000'\n",
              "            max='6000',\n",
              "            style='width: 100%'\n",
              "        >\n",
              "            6000\n",
              "        </progress>\n",
              "    "
            ],
            "text/plain": [
              "<IPython.core.display.HTML object>"
            ]
          },
          "metadata": {
            "tags": []
          }
        },
        {
          "output_type": "stream",
          "text": [
            "Recall: 0.7666666666666667\n",
            "Precision: 0.08199643493761141\n",
            "F1: 0.14814814814814817\n",
            "FPR: 0.0867003367003367\n"
          ],
          "name": "stdout"
        },
        {
          "output_type": "display_data",
          "data": {
            "text/html": [
              "\n",
              "        <progress\n",
              "            value='6000'\n",
              "            max='6000',\n",
              "            style='width: 100%'\n",
              "        >\n",
              "            6000\n",
              "        </progress>\n",
              "    "
            ],
            "text/plain": [
              "<IPython.core.display.HTML object>"
            ]
          },
          "metadata": {
            "tags": []
          }
        },
        {
          "output_type": "stream",
          "text": [
            "Recall: 0.5740740740740741\n",
            "Precision: 0.16489361702127658\n",
            "F1: 0.256198347107438\n",
            "FPR: 0.026404305415405314\n"
          ],
          "name": "stdout"
        },
        {
          "output_type": "display_data",
          "data": {
            "text/html": [
              "\n",
              "        <progress\n",
              "            value='6000'\n",
              "            max='6000',\n",
              "            style='width: 100%'\n",
              "        >\n",
              "            6000\n",
              "        </progress>\n",
              "    "
            ],
            "text/plain": [
              "<IPython.core.display.HTML object>"
            ]
          },
          "metadata": {
            "tags": []
          }
        },
        {
          "output_type": "stream",
          "text": [
            "Recall: 0.41379310344827586\n",
            "Precision: 0.4528301886792453\n",
            "F1: 0.4324324324324324\n",
            "FPR: 0.004880511612251767\n"
          ],
          "name": "stdout"
        },
        {
          "output_type": "display_data",
          "data": {
            "text/html": [
              "\n",
              "        <progress\n",
              "            value='6000'\n",
              "            max='6000',\n",
              "            style='width: 100%'\n",
              "        >\n",
              "            6000\n",
              "        </progress>\n",
              "    "
            ],
            "text/plain": [
              "<IPython.core.display.HTML object>"
            ]
          },
          "metadata": {
            "tags": []
          }
        },
        {
          "output_type": "stream",
          "text": [
            "Recall: 0.3103448275862069\n",
            "Precision: 0.8571428571428571\n",
            "F1: 0.45569620253164556\n",
            "FPR: 0.0005048805116122518\n"
          ],
          "name": "stdout"
        },
        {
          "output_type": "display_data",
          "data": {
            "text/html": [
              "\n",
              "        <progress\n",
              "            value='6000'\n",
              "            max='6000',\n",
              "            style='width: 100%'\n",
              "        >\n",
              "            6000\n",
              "        </progress>\n",
              "    "
            ],
            "text/plain": [
              "<IPython.core.display.HTML object>"
            ]
          },
          "metadata": {
            "tags": []
          }
        },
        {
          "output_type": "stream",
          "text": [
            "Recall: 0.1836734693877551\n",
            "Precision: 0.8181818181818182\n",
            "F1: 0.3\n",
            "FPR: 0.0003360779700890607\n"
          ],
          "name": "stdout"
        }
      ]
    },
    {
      "cell_type": "code",
      "metadata": {
        "id": "vmRoGwngehtn",
        "colab_type": "code",
        "colab": {
          "base_uri": "https://localhost:8080/",
          "height": 286
        },
        "outputId": "f8aaa92f-4b1f-4cdd-c2bf-a7f70761284e"
      },
      "source": [
        "plt.plot(FPR, TPR)\n",
        "plt.scatter(0.0065, 0.865, c='r') # random forest method"
      ],
      "execution_count": 55,
      "outputs": [
        {
          "output_type": "execute_result",
          "data": {
            "text/plain": [
              "<matplotlib.collections.PathCollection at 0x7f4f8e9ba710>"
            ]
          },
          "metadata": {
            "tags": []
          },
          "execution_count": 55
        },
        {
          "output_type": "display_data",
          "data": {
            "image/png": "[encoded data removed]",
            "text/plain": [
              "<Figure size 432x288 with 1 Axes>"
            ]
          },
          "metadata": {
            "tags": []
          }
        }
      ]
    },
    {
      "cell_type": "markdown",
      "metadata": {
        "id": "NmsgjlXztQeS",
        "colab_type": "text"
      },
      "source": [
        "This approach solves two of the problems of the previous method:\n",
        "\n",
        "\n",
        "1.   It gives us a way to choose TPR/FPR from a certain spectrum\n",
        "2.   It doesn't really learn film labels, only the notion of similarity built in TF-IDF features, so it can be used for unseen films.\n",
        "\n",
        "Unfortunately, it doesn't achieve 0.865/0.0065 TPF/FPR (or 0.64 F1 score), which shows that in general it's not that good."
      ]
    },
    {
      "cell_type": "markdown",
      "metadata": {
        "id": "4haGt5uj4d8b",
        "colab_type": "text"
      },
      "source": [
        "# Multi-layer Perceptron classifier on reduced data"
      ]
    },
    {
      "cell_type": "code",
      "metadata": {
        "id": "OuzwBrgu4kGs",
        "colab_type": "code",
        "colab": {}
      },
      "source": [
        "X_reduced = load(join(CFT_DATA, 'X_reduced.joblib'))"
      ],
      "execution_count": 0,
      "outputs": []
    },
    {
      "cell_type": "code",
      "metadata": {
        "id": "DebLvqf_nv72",
        "colab_type": "code",
        "colab": {}
      },
      "source": [
        "XR_train, XR_test, Y_train, Y_test = train_test_split(X_reduced, Y, test_size=0.3)"
      ],
      "execution_count": 0,
      "outputs": []
    },
    {
      "cell_type": "code",
      "metadata": {
        "id": "tY4ehZeHgr0Z",
        "colab_type": "code",
        "colab": {
          "base_uri": "https://localhost:8080/",
          "height": 1411
        },
        "outputId": "8839f5d3-e3f2-45e7-fdcc-ee1bf9167a80"
      },
      "source": [
        "from sklearn.neural_network import MLPClassifier\n",
        "mlpc = MLPClassifier((300), batch_size=500)#, verbose=True)\n",
        "mlpc.fit(XR_train, Y_train)\n",
        "print('Accuracy: ', mlpc.score(XR_test, Y_test))"
      ],
      "execution_count": 75,
      "outputs": [
        {
          "output_type": "stream",
          "text": [
            "Iteration 1, loss = 5.35209840\n",
            "Iteration 2, loss = 4.35196202\n",
            "Iteration 3, loss = 3.27578169\n",
            "Iteration 4, loss = 2.34183791\n",
            "Iteration 5, loss = 1.70847645\n",
            "Iteration 6, loss = 1.30455977\n",
            "Iteration 7, loss = 1.03540745\n",
            "Iteration 8, loss = 0.84558985\n",
            "Iteration 9, loss = 0.70237389\n",
            "Iteration 10, loss = 0.59094841\n",
            "Iteration 11, loss = 0.50120248\n",
            "Iteration 12, loss = 0.42771817\n",
            "Iteration 13, loss = 0.36772878\n",
            "Iteration 14, loss = 0.31728763\n",
            "Iteration 15, loss = 0.27434592\n",
            "Iteration 16, loss = 0.23849750\n",
            "Iteration 17, loss = 0.20741338\n",
            "Iteration 18, loss = 0.18125563\n",
            "Iteration 19, loss = 0.15834049\n",
            "Iteration 20, loss = 0.13855495\n",
            "Iteration 21, loss = 0.12199743\n",
            "Iteration 22, loss = 0.10711279\n",
            "Iteration 23, loss = 0.09452064\n",
            "Iteration 24, loss = 0.08340549\n",
            "Iteration 25, loss = 0.07418359\n",
            "Iteration 26, loss = 0.06608524\n",
            "Iteration 27, loss = 0.05905049\n",
            "Iteration 28, loss = 0.05314781\n",
            "Iteration 29, loss = 0.04792758\n",
            "Iteration 30, loss = 0.04350001\n",
            "Iteration 31, loss = 0.03969185\n",
            "Iteration 32, loss = 0.03639626\n",
            "Iteration 33, loss = 0.03347167\n",
            "Iteration 34, loss = 0.03096603\n",
            "Iteration 35, loss = 0.02874893\n",
            "Iteration 36, loss = 0.02687056\n",
            "Iteration 37, loss = 0.02516788\n",
            "Iteration 38, loss = 0.02375931\n",
            "Iteration 39, loss = 0.02239129\n",
            "Iteration 40, loss = 0.02126101\n",
            "Iteration 41, loss = 0.02019537\n",
            "Iteration 42, loss = 0.01925100\n",
            "Iteration 43, loss = 0.01844191\n",
            "Iteration 44, loss = 0.01768026\n",
            "Iteration 45, loss = 0.01698805\n",
            "Iteration 46, loss = 0.01641056\n",
            "Iteration 47, loss = 0.01585009\n",
            "Iteration 48, loss = 0.01535049\n",
            "Iteration 49, loss = 0.01489859\n",
            "Iteration 50, loss = 0.01448705\n",
            "Iteration 51, loss = 0.01410807\n",
            "Iteration 52, loss = 0.01376245\n",
            "Iteration 53, loss = 0.01344112\n",
            "Iteration 54, loss = 0.01314570\n",
            "Iteration 55, loss = 0.01287313\n",
            "Iteration 56, loss = 0.01261542\n",
            "Iteration 57, loss = 0.01238135\n",
            "Iteration 58, loss = 0.01216554\n",
            "Iteration 59, loss = 0.01196069\n",
            "Iteration 60, loss = 0.01177266\n",
            "Iteration 61, loss = 0.01158924\n",
            "Iteration 62, loss = 0.01142478\n",
            "Iteration 63, loss = 0.01126772\n",
            "Iteration 64, loss = 0.01112259\n",
            "Iteration 65, loss = 0.01098606\n",
            "Iteration 66, loss = 0.01085442\n",
            "Iteration 67, loss = 0.01073010\n",
            "Iteration 68, loss = 0.01061709\n",
            "Iteration 69, loss = 0.01050723\n",
            "Iteration 70, loss = 0.01040079\n",
            "Iteration 71, loss = 0.01030198\n",
            "Iteration 72, loss = 0.01020679\n",
            "Iteration 73, loss = 0.01011613\n",
            "Iteration 74, loss = 0.01003119\n",
            "Iteration 75, loss = 0.00994913\n",
            "Iteration 76, loss = 0.00987097\n",
            "Iteration 77, loss = 0.00979556\n",
            "Iteration 78, loss = 0.00972541\n",
            "Iteration 79, loss = 0.00965476\n",
            "Iteration 80, loss = 0.00958858\n",
            "Iteration 81, loss = 0.00952431\n",
            "Training loss did not improve more than tol=0.000100 for 10 consecutive epochs. Stopping.\n",
            "Accuracy:  0.9042630715977409\n"
          ],
          "name": "stdout"
        }
      ]
    },
    {
      "cell_type": "markdown",
      "metadata": {
        "id": "ZOBkPpm4MBMw",
        "colab_type": "text"
      },
      "source": [
        "A gain from 77% to 90% in accuracy of film prediction compared to random forest "
      ]
    },
    {
      "cell_type": "code",
      "metadata": {
        "id": "6FJ91w7_7JDD",
        "colab_type": "code",
        "colab": {}
      },
      "source": [
        "pred_prob = mlpc.predict_proba(XR_test)"
      ],
      "execution_count": 0,
      "outputs": []
    },
    {
      "cell_type": "code",
      "metadata": {
        "id": "LZHdNzSv-h4z",
        "colab_type": "code",
        "colab": {
          "base_uri": "https://localhost:8080/",
          "height": 2050
        },
        "outputId": "57300264-5c68-4c3c-c3aa-7bab06ed13a8"
      },
      "source": [
        "TPR = []\n",
        "FPR = []\n",
        "F1 = []\n",
        "thr = np.linspace(0.01, 0.99, 30) ** 3\n",
        "for threshold in thr:\n",
        "  N = int(1e6)\n",
        "  ind1 = np.random.uniform(0, Y_test.shape[0], N).astype('int64')\n",
        "  ind2 = np.random.uniform(0, Y_test.shape[0], N).astype('int64')\n",
        "  binary_Y = Y_test.values[ind1] == Y_test.values[ind2]\n",
        "\n",
        "  binary_pred = []\n",
        "  for i in range(ind1.shape[0]):\n",
        "    #proba = P(film1 == film2 | prediction1, prediction2)\n",
        "    proba = pred_prob[ind1[i]].dot(pred_prob[ind2[i]])\n",
        "    binary_pred.append(proba > threshold)\n",
        "  binary_pred = np.asarray(binary_pred)\n",
        "\n",
        "  TPR.append( (binary_Y * binary_pred).sum() / binary_Y.sum() )\n",
        "  print('Recall:', TPR[-1])\n",
        "  PPV = (binary_Y * binary_pred).sum() / binary_pred.sum()\n",
        "  print('Precision:', PPV)\n",
        "  F1.append( 2 * PPV*TPR[-1] / (PPV+TPR[-1]) )\n",
        "  print('F1:', F1[-1])\n",
        "  FPR.append( (binary_pred * (~binary_Y)).sum() / (~binary_Y).sum())\n",
        "  print('FPR:', FPR[-1])\n",
        "  dump((TPR, FPR, F1, thr), metrics_file)"
      ],
      "execution_count": 107,
      "outputs": [
        {
          "output_type": "stream",
          "text": [
            "Recall: 0.9998790517658442\n",
            "Precision: 0.01633920400979522\n",
            "F1: 0.03215299020475313\n",
            "FPR: 0.5018432399075556\n",
            "Recall: 0.9997544505831799\n",
            "Precision: 0.03451374319198084\n",
            "F1: 0.0667240249098656\n",
            "FPR: 0.22966260189241372\n",
            "Recall: 0.9982853643600735\n",
            "Precision: 0.05951720310765816\n",
            "F1: 0.11233694191583345\n",
            "FPR: 0.12986131765868314\n",
            "Recall: 0.9957606589147286\n",
            "Precision: 0.098271492779956\n",
            "F1: 0.17888850204543474\n",
            "FPR: 0.07606297592927207\n",
            "Recall: 0.9907851087357169\n",
            "Precision: 0.1523061232198844\n",
            "F1: 0.264025538184497\n",
            "FPR: 0.045250292127626754\n",
            "Recall: 0.986548162382897\n",
            "Precision: 0.22877036624425567\n",
            "F1: 0.37141371436322945\n",
            "FPR: 0.027923490985949012\n",
            "Recall: 0.9822076978939724\n",
            "Precision: 0.31009973632924454\n",
            "F1: 0.4713775376840638\n",
            "FPR: 0.018204404792394765\n",
            "Recall: 0.9736428485068311\n",
            "Precision: 0.392197925290995\n",
            "F1: 0.5591584502152479\n",
            "FPR: 0.012584082950080113\n",
            "Recall: 0.970703125\n",
            "Precision: 0.47593966961934403\n",
            "F1: 0.638714859437751\n",
            "FPR: 0.008828321610634316\n",
            "Recall: 0.963275135460566\n",
            "Precision: 0.5439586591419052\n",
            "F1: 0.6952894142186685\n",
            "FPR: 0.0067631681111632105\n",
            "Recall: 0.9585292344786016\n",
            "Precision: 0.6136924976844705\n",
            "F1: 0.7482941979200979\n",
            "FPR: 0.005046863734679163\n",
            "Recall: 0.9509099616858238\n",
            "Precision: 0.6631596526386105\n",
            "F1: 0.7813852813852815\n",
            "FPR: 0.004067975733324728\n",
            "Recall: 0.9468290330359296\n",
            "Precision: 0.7006602426837973\n",
            "F1: 0.8053532970977337\n",
            "FPR: 0.00338305909210996\n",
            "Recall: 0.9419540920562433\n",
            "Precision: 0.7423754498958136\n",
            "F1: 0.8303405900736268\n",
            "FPR: 0.00274282303043626\n",
            "Recall: 0.9311321916964396\n",
            "Precision: 0.7714606512197612\n",
            "F1: 0.8438093111532878\n",
            "FPR: 0.0022573226882606112\n",
            "Recall: 0.9253804017041997\n",
            "Precision: 0.7915451895043731\n",
            "F1: 0.8532465345979011\n",
            "FPR: 0.0020185826565233393\n",
            "Recall: 0.9182297413264681\n",
            "Precision: 0.8273500497072793\n",
            "F1: 0.8704241719930272\n",
            "FPR: 0.0015758542430606456\n",
            "Recall: 0.9136612021857924\n",
            "Precision: 0.8455832771409305\n",
            "F1: 0.878305025389599\n",
            "FPR: 0.0013854088418123246\n",
            "Recall: 0.9072052401746725\n",
            "Precision: 0.8590627153687113\n",
            "F1: 0.8824778761061947\n",
            "FPR: 0.001237199472450885\n",
            "Recall: 0.8955187530443254\n",
            "Precision: 0.8831511949081302\n",
            "F1: 0.8892919765402987\n",
            "FPR: 0.0009810564354478981\n",
            "Recall: 0.8924028058494828\n",
            "Precision: 0.899352983465133\n",
            "F1: 0.895864414871397\n",
            "FPR: 0.0008471251698032148\n",
            "Recall: 0.8860402355250245\n",
            "Precision: 0.9154626108998732\n",
            "F1: 0.9005111582096995\n",
            "FPR: 0.0006724820738661569\n",
            "Recall: 0.8772318679965522\n",
            "Precision: 0.9239948119325552\n",
            "F1: 0.9000063167203588\n",
            "FPR: 0.0005907978694981948\n",
            "Recall: 0.8661930136175252\n",
            "Precision: 0.9318471337579618\n",
            "F1: 0.8978214176127647\n",
            "FPR: 0.000539556555107886\n",
            "Recall: 0.8548169910637777\n",
            "Precision: 0.9403447347158632\n",
            "F1: 0.8955434434113498\n",
            "FPR: 0.0004466486730098172\n",
            "Recall: 0.849576523917452\n",
            "Precision: 0.9515030060120241\n",
            "F1: 0.8976556591883036\n",
            "FPR: 0.0003660687543678658\n",
            "Recall: 0.8344960307914361\n",
            "Precision: 0.9561742006615215\n",
            "F1: 0.8912010276172124\n",
            "FPR: 0.00032066601726756254\n",
            "Recall: 0.799173352783856\n",
            "Precision: 0.966764705882353\n",
            "F1: 0.8750166378277652\n",
            "FPR: 0.0002278744956008123\n",
            "Recall: 0.7605582962339069\n",
            "Precision: 0.9792408985282727\n",
            "F1: 0.8561560341324664\n",
            "FPR: 0.00013512300731378487\n",
            "Recall: 0.0\n",
            "Precision: nan\n",
            "F1: nan\n",
            "FPR: 0.0\n"
          ],
          "name": "stdout"
        },
        {
          "output_type": "stream",
          "text": [
            "/usr/local/lib/python3.6/dist-packages/ipykernel_launcher.py:24: RuntimeWarning: invalid value encountered in long_scalars\n"
          ],
          "name": "stderr"
        }
      ]
    },
    {
      "cell_type": "code",
      "metadata": {
        "id": "WVV0eG0C_fNv",
        "colab_type": "code",
        "colab": {
          "base_uri": "https://localhost:8080/",
          "height": 286
        },
        "outputId": "f409874f-4984-4be9-9ee6-5a4eef3ef65c"
      },
      "source": [
        "plt.plot(FPR, TPR)\n",
        "plt.scatter(0.0065, 0.865, c='r') # random forest method"
      ],
      "execution_count": 108,
      "outputs": [
        {
          "output_type": "execute_result",
          "data": {
            "text/plain": [
              "<matplotlib.collections.PathCollection at 0x7f4f5f37d358>"
            ]
          },
          "metadata": {
            "tags": []
          },
          "execution_count": 108
        },
        {
          "output_type": "display_data",
          "data": {
            "image/png": "[encoded data removed]",
            "text/plain": [
              "<Figure size 432x288 with 1 Axes>"
            ]
          },
          "metadata": {
            "tags": []
          }
        }
      ]
    },
    {
      "cell_type": "code",
      "metadata": {
        "id": "I9qGUo-PAnrR",
        "colab_type": "code",
        "colab": {
          "base_uri": "https://localhost:8080/",
          "height": 286
        },
        "outputId": "14fd68dd-3219-4fd8-8683-424f5718699a"
      },
      "source": [
        "plt.plot(F1)\n",
        "print(np.nanmax(F1))"
      ],
      "execution_count": 113,
      "outputs": [
        {
          "output_type": "stream",
          "text": [
            "0.9005111582096995\n"
          ],
          "name": "stdout"
        },
        {
          "output_type": "display_data",
          "data": {
            "image/png": "[encoded data removed]",
            "text/plain": [
              "<Figure size 432x288 with 1 Axes>"
            ]
          },
          "metadata": {
            "tags": []
          }
        }
      ]
    },
    {
      "cell_type": "markdown",
      "metadata": {
        "id": "Lv541vEw_8b2",
        "colab_type": "text"
      },
      "source": [
        "A simple fully-connected neural network with 300 hidden neurons that predicts the movie (out of 350 possibilities) with 90% accuracy creates a great predictor for review pairs. It outperforms baseline solution and allows us to choose desirable TPR/FPR in a very good range of values.\n",
        "\n",
        "However, it has its drawbacks.\n",
        "\n",
        "*    For one, we can't guarantee a good performance on unseen films. It is possible to have decent performance with current architecture, but we need to test it further. The way to deal with this problem is to remove the final softmax layer and make a loss function to directly minimise distances between reviews of the same films, effectively making it a seamese neural network.\n",
        "*   It is unclear how feature importances derived from a random forest affects the end solution\n",
        "*   This architecture **still** treats documents as bags of words, losing one of the most important information sources in natural language: the order of the words \n",
        "\n",
        "\n"
      ]
    },
    {
      "cell_type": "markdown",
      "metadata": {
        "id": "ahYYMR5tDbDx",
        "colab_type": "text"
      },
      "source": [
        "# Future work"
      ]
    },
    {
      "cell_type": "markdown",
      "metadata": {
        "id": "cGDAPJR5EWO9",
        "colab_type": "text"
      },
      "source": [
        "We might gain some performance by changing the ML models and tuning the hyperparameters in the existing pipeline.\n",
        "\n",
        "We may also improve this pipeline - or degrade - by training the models end-to-end - directly on pairs of reviews and single-bit supervision (is it a matching pair or not). But this could be computationally expensive and may pose some difficult questions about the sampling process, as it's a very disbalanced population.\n",
        "\n",
        "Probably the most interesting thing to try would be to move to sequential language models.\n",
        "\n",
        "If we were to do that, first of all we would replace TF-IDF step with finding a good pretrained word embeddings (or training a new embeddings directly on a given dataset).\n",
        "Then with these embeddings we would be able to do, for example, a stacked BLSTM to create document embeddings. The last step would be the same - either classification of the known films and then evaluation of a probability P(f1==f2), or a direct optimization of the distances between document embeddings.\n",
        "\n",
        "Pipeline:\n",
        "\n",
        "\n",
        "*   tokenize\n",
        "*   stem/lemmatize\n",
        "*   remove stop-words\n",
        "*   TF-IDF                                                                                --> word embeddings\n",
        "*   if possible, reduce the dimensions                               --> sequential model for document embeddings\n",
        "*   classify individual reviews on known categories       <~~> classify pairs directly\n",
        "*   on pairs - compare predictions for individual reviews and compare"
      ]
    }
  ]
}